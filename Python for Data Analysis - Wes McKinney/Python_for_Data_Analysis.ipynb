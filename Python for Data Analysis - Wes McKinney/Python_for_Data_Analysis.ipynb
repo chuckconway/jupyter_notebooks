{
 "cells": [
  {
   "cell_type": "code",
   "execution_count": 28,
   "metadata": {
    "collapsed": true
   },
   "outputs": [],
   "source": [
    "%matplotlib inline\n",
    "\n",
    "import matplotlib\n",
    "import numpy as np\n",
    "import matplotlib.pyplot as plt\n",
    "import pandas as pd\n",
    "\n"
   ]
  },
  {
   "cell_type": "code",
   "execution_count": 29,
   "metadata": {},
   "outputs": [
    {
     "data": {
      "text/plain": [
       "[<matplotlib.lines.Line2D at 0x113fb0630>]"
      ]
     },
     "execution_count": 29,
     "metadata": {},
     "output_type": "execute_result"
    },
    {
     "data": {
      "image/png": "[encoded data removed]",
      "text/plain": [
       "<matplotlib.figure.Figure at 0x110b04cf8>"
      ]
     },
     "metadata": {},
     "output_type": "display_data"
    }
   ],
   "source": [
    "plt.plot(np.random.randn(100))"
   ]
  },
  {
   "cell_type": "code",
   "execution_count": 41,
   "metadata": {},
   "outputs": [
    {
     "name": "stdout",
     "output_type": "stream",
     "text": [
      "PandasAnswerers.csv  PandasPosts.csv\r\n",
      "PandasAnswers.csv    PandasUsers.csv\r\n"
     ]
    }
   ],
   "source": [
    "ls"
   ]
  },
  {
   "cell_type": "code",
   "execution_count": 43,
   "metadata": {},
   "outputs": [],
   "source": [
    "dataset = 'Pandas'\n",
    "users = pd.read_csv('PandasUsers.csv')\n",
    "posts = pd.read_csv('PandasPosts.csv')\n",
    "answers = pd.read_csv('PandasAnswers.csv')\n",
    "answerers = pd.read_csv('PandasAnswerers.csv')"
   ]
  },
  {
   "cell_type": "code",
   "execution_count": 39,
   "metadata": {},
   "outputs": [
    {
     "data": {
      "text/plain": [
       "0           user1843099\n",
       "1           mikebmassey\n",
       "2              dmvianna\n",
       "3             ezbentley\n",
       "4                 Ralph\n",
       "5            Evan Davey\n",
       "6       Nicola Vianello\n",
       "7                 Roger\n",
       "8                 Shane\n",
       "9                 roysc\n",
       "10                 RJCL\n",
       "11                  PhE\n",
       "12     Martin C. Martin\n",
       "13                Einar\n",
       "14               javier\n",
       "15       ChrisArmstrong\n",
       "16              enedene\n",
       "17       Rutger Kassies\n",
       "18          user1952043\n",
       "19                Yariv\n",
       "20             vkontori\n",
       "21          user1889418\n",
       "22                baozi\n",
       "23          user1911092\n",
       "24               bigbug\n",
       "25         Dylan Cutler\n",
       "26              chrisfs\n",
       "27            K Raphael\n",
       "28          user1504774\n",
       "29              alexhli\n",
       "             ...       \n",
       "460           capitrane\n",
       "461         nickponline\n",
       "462         Tom Bennett\n",
       "463                Phil\n",
       "464         user1441053\n",
       "465           Guy Adini\n",
       "466         user1757163\n",
       "467        Calvin Cheng\n",
       "468              sky404\n",
       "469              Muppet\n",
       "470                 kgr\n",
       "471                bgbg\n",
       "472         crispamares\n",
       "473                riko\n",
       "474                RafG\n",
       "475            briant57\n",
       "476         user1470604\n",
       "477             cpcloud\n",
       "478              mhubig\n",
       "479           akiladila\n",
       "480         user1246428\n",
       "481              Shakti\n",
       "482             PlagTag\n",
       "483           user14121\n",
       "484                Tony\n",
       "485              GBadge\n",
       "486     Skylar Saveland\n",
       "487           sashkello\n",
       "488         user1498485\n",
       "489           A Alstone\n",
       "Name: DisplayName, Length: 490, dtype: object"
      ]
     },
     "execution_count": 39,
     "metadata": {},
     "output_type": "execute_result"
    }
   ],
   "source": [
    "users['DisplayName']"
   ]
  },
  {
   "cell_type": "code",
   "execution_count": null,
   "metadata": {
    "collapsed": true
   },
   "outputs": [],
   "source": []
  }
 ],
 "metadata": {
  "kernelspec": {
   "display_name": "Python 3",
   "language": "python",
   "name": "python3"
  },
  "language_info": {
   "codemirror_mode": {
    "name": "ipython",
    "version": 3
   },
   "file_extension": ".py",
   "mimetype": "text/x-python",
   "name": "python",
   "nbconvert_exporter": "python",
   "pygments_lexer": "ipython3",
   "version": "3.6.1"
  }
 },
 "nbformat": 4,
 "nbformat_minor": 2
}
